{
 "cells": [
  {
   "cell_type": "markdown",
   "metadata": {},
   "source": [
    "For creating our Neural Network API, we will use the numpy library.\n",
    "Let's also import matplotlib to plot our results."
   ]
  },
  {
   "cell_type": "code",
   "execution_count": 1,
   "metadata": {},
   "outputs": [],
   "source": [
    "import numpy as np\n",
    "import pandas as pd\n",
    "import matplotlib.pyplot as plt"
   ]
  },
  {
   "cell_type": "markdown",
   "metadata": {},
   "source": [
    "## Network Layers\n",
    "\n",
    "A typical two-layer neural network is set-up as follows:\n",
    "\n",
    "**Input -> First Linear Layer -> Activation Function -> Second Linear Layer -> Output**\n",
    "\n",
    "In this feed-forward architecture, the network works in two passes: forward and backward.\n",
    "\n",
    "* *Forward pass*: It takes input from previous layer and send output to next layer.\n",
    "* *Backward pass*: It takes error gradient with respect to output variable and calculates error gradient with respect to input variable. It also calculates the gradient with respect to its parameters that are to be trained.\n",
    "\n",
    "So, the network can be divided into a set of **Layers**, each layer responsible for a forward and a backward pass."
   ]
  },
  {
   "cell_type": "code",
   "execution_count": 3,
   "metadata": {},
   "outputs": [],
   "source": [
    "class Layer:\n",
    "    \"\"\"\n",
    "    A layer in the network can do one of the following four things:\n",
    "    \n",
    "    * forward pass: Accepts an input and generates an output.\n",
    "    * backward pass: Accepts the gradient of a the error with respect to the output variable\n",
    "                     and uses the chain rule to return the gradient with respect to the input variable.\n",
    "                     This is also where the gradient with respect to the layer parameters are calculated.\n",
    "    * init_params: Initialze any parameters involved in this layer.\n",
    "    * update_params: Update any parameters involved in this layer as part of the training process,\n",
    "                     with the learning rate alpha.\n",
    "    \"\"\"\n",
    "\n",
    "    def forward(self, input_data):\n",
    "        raise NotImplementedError\n",
    "        \n",
    "    def backpropagate(self, out_gradient):\n",
    "        raise NotImplementedError\n",
    "        \n",
    "    def init_params(self):\n",
    "        pass\n",
    "        \n",
    "    def update_params(self, alpha):\n",
    "        pass"
   ]
  },
  {
   "cell_type": "markdown",
   "metadata": {},
   "source": [
    "### Linear Layer\n",
    "\n",
    "This layer calculates the output based on the following equation:\n",
    "\n",
    "$$\n",
    "Z = WX + b\n",
    "$$\n",
    "\n",
    "If the output variable dimension is $m$ and the input variable dimension $n$, the weight matrix $W$ has dimension $m \\times n$ and the bias $b$ has dimension $m \\times 1$.\n",
    "\n",
    "Based on this equation, the gradient of the error $E$ with respect to the input variable $X$ can be calculated from the gradient of $E$ with respect to the output variable $X$ as:\n",
    "\n",
    "$$\n",
    "\\frac{\\partial E}{\\partial X} = \\left(W^T \\right) \\left(\\frac{\\partial E}{\\partial Z}\\right)\n",
    "$$\n",
    "\n",
    "Furthermore, to update the parameters $W$ and $b$, we can calulate the error gradient with respect to these parameters as follows:\n",
    "\n",
    "$$\n",
    "\\frac{\\partial E}{\\partial W} = \\left(\\frac{\\partial E}{\\partial Z}\\right) \\left(X^T \\right)\n",
    "\\\\\n",
    "\\frac{\\partial E}{\\partial b} = \\left(\\frac{\\partial E}{\\partial Z}\\right)\n",
    "$$"
   ]
  },
  {
   "cell_type": "code",
   "execution_count": 4,
   "metadata": {},
   "outputs": [],
   "source": [
    "class Linear(Layer):\n",
    "    \"\"\"\n",
    "    A linear layer calculates the linear equation WX + b,\n",
    "    where W is the weight matrix, b is the bias and X is the input matrix.\n",
    "    \"\"\"\n",
    "\n",
    "    def __init__(self, input_dim, output_dim):\n",
    "        \"\"\"\n",
    "        input_dim: Dimension of each input data for this layer.\n",
    "        output_dim: Dimension of each output data for this layer.\n",
    "        \"\"\"\n",
    "        self.input_dim = input_dim\n",
    "        self.output_dim = output_dim\n",
    "        \n",
    "        # This is optional, but we initialize W and b when the layer is created.\n",
    "        self.init_params()\n",
    "        \n",
    "    def forward(self, input_data):        \n",
    "        # Calculate and return WX + b\n",
    "        self.input = input_data\n",
    "        return self.w * self.input + self.b\n",
    "        \n",
    "    def backward(self, out_gradient):\n",
    "        # Besides calculating gradient with respect to the input (X),\n",
    "        # we will also record the gradient with respect to the paramters (W and b).\n",
    "        \n",
    "        # Here, the output of this layer: Z = WX + B\n",
    "        # out_gradient = Grad(E, Z)\n",
    "    \n",
    "        # Grad(E, W) = Grad(E, Z) Transpose(X)\n",
    "        self.dw = out_gradient * self.input.T\n",
    "        \n",
    "        # Grad(E, b) = Grad(E, Z)\n",
    "        # but since b is a column vector and out_gradient is a matrix, we will take the sum of its columns.\n",
    "        self.db = np.sum(out_gradient, axis=1)\n",
    "        \n",
    "        # Finally, return Grad(E, X) = Transpose(W) Grad(E, Z)\n",
    "        return self.w.T * out_gradient\n",
    "    \n",
    "    def init_params(self):\n",
    "        # Use Xavier Initialization:\n",
    "        variance = 2 / (self.output_dim + self.input_dim)\n",
    "        mean = 0\n",
    "        sigma = np.sqrt(variance)\n",
    "        \n",
    "        # Dim(W) = output_dim X input_dim\n",
    "        self.w = np.matrix(\n",
    "            np.random.normal(mean, variance,\n",
    "                             (self.output_dim, self.input_dim))\n",
    "        )\n",
    "        \n",
    "        # Dim(b) = output_dim X 1\n",
    "        self.b = np.matrix(\n",
    "            np.random.normal(mean, variance,\n",
    "                             (self.output_dim, 1))\n",
    "        )\n",
    "        # This should actually be output_dim X batch_size\n",
    "        # where the columns of the matrix are same. However,\n",
    "        # numpy directly takes care of this when calculating WX + b,\n",
    "        # so we don't need to know the batch size at this point.\n",
    "    \n",
    "    def update_params(self, alpha):\n",
    "        # Use gradient descent to update the parameters.\n",
    "        # Theta_new = Theta_old - Learning_rate * Gradient(E, Theta)\n",
    "        self.w = self.w - alpha * self.dw\n",
    "        self.b = self.b - alpha * self.db\n",
    "        "
   ]
  },
  {
   "cell_type": "markdown",
   "metadata": {},
   "source": [
    "### Activation Layer\n",
    "\n",
    "This layer represents a simple mathematical function used to activate the neuron.\n",
    "\n",
    "For an input $Z$, it simply calculates:\n",
    "\n",
    "$$\n",
    "A = f(Z)\n",
    "$$\n",
    "\n",
    "where $f(Z)$ can be sigmoid, ReLu or any other activation function and is applied element-wise.\n",
    "\n",
    "Given the gradient of the error with respect to it's output $A$, we can calculate the gradient with respect to it's input $Z$ as follows:\n",
    "\n",
    "$$\n",
    "\\frac{\\partial E}{\\partial Z} = \\left(\\frac{\\partial E}{\\partial A}\\right) * \\left(f'(Z)\\right)\n",
    "$$\n",
    "\n",
    "where $*$ represents element-wise multiplication and $f'(Z) = \\frac{\\partial f(Z)}{\\partial Z}$."
   ]
  },
  {
   "cell_type": "code",
   "execution_count": 6,
   "metadata": {},
   "outputs": [],
   "source": [
    "class Activation(Layer):\n",
    "    \"\"\"\n",
    "    An activation layer uses a mathematical function to transform input to the output.\n",
    "    \n",
    "    Each activation layer implements the following two functions:\n",
    "    \n",
    "    * apply: Apply the function to the input data.\n",
    "    * apply_d: Apply the derivative of the function with respect to the input variable for given input data.\n",
    "    \"\"\"\n",
    "\n",
    "    def forward(self, input_data):\n",
    "        # Forward pass is simply applying the function f(Z) to the input variable Z, element-wise.\n",
    "        self.input = input_data\n",
    "        return self.apply(input_data)\n",
    "    \n",
    "    def backward(self, out_gradient):\n",
    "        # Here, the output of this layer: A = f(Z)\n",
    "        # out_gradient = Grad(E, A)\n",
    "        \n",
    "        # First calculate f'(Z)\n",
    "        f_dash = self.apply_d(self.input)\n",
    "        \n",
    "        # Finally, return Grad(E, Z) = Grad(E, A) * f'(Z).\n",
    "        return np.multiply(f_dash, out_gradient)\n",
    "    \n",
    "    def apply(self, data):\n",
    "        raise NotImplementedError\n",
    "        \n",
    "    def apply_d(self, data):\n",
    "        raise NotImplementedError"
   ]
  },
  {
   "cell_type": "markdown",
   "metadata": {},
   "source": [
    "Following are two common activation functions."
   ]
  },
  {
   "cell_type": "code",
   "execution_count": 8,
   "metadata": {},
   "outputs": [],
   "source": [
    "class Sigmoid(Activation):\n",
    "    \"\"\"\n",
    "    The Sigmoid activation function:\n",
    "    \n",
    "    f(Z) = 1 / (1 + exp(-z))\n",
    "    f'(Z) = f(Z) (1 - f(Z))\n",
    "    \"\"\"\n",
    "    def apply(self, data):\n",
    "        return 1 / (1 + np.exp(-data))\n",
    "    \n",
    "    def apply_d(self, data):\n",
    "        y = self.apply(data)\n",
    "        return np.multiply(y, 1 - y)\n",
    "    \n",
    "\n",
    "class ReLu(Activation):\n",
    "    \"\"\"\n",
    "    The ReLu activation function:\n",
    "    \n",
    "    f(Z) = 0 if Z < 0 and Z otherwise.\n",
    "    f'(Z) = 0 if Z <0 and 1 otherwise.\n",
    "    \"\"\"\n",
    "    def apply(self, data):\n",
    "        y = np.copy(data)\n",
    "        y[y < 0] = 0\n",
    "        return y\n",
    "    \n",
    "    def apply_d(self, data):\n",
    "        y = np.ones(data.shape)\n",
    "        y[data < 0] = 0\n",
    "        return y"
   ]
  },
  {
   "cell_type": "markdown",
   "metadata": {},
   "source": [
    "## Multiclass Feed-Forward Neural Network\n",
    "\n",
    "Using the above layers, we can setup different neural network architectures.\n",
    "\n",
    "For multiclass classification, we will setup our network as follows:\n",
    "\n",
    "* The network initially allows any number of layers, combined in any way as long as they are compatible with respect to input and output sizes.\n",
    "\n",
    "* The network uses the final layer's output to classify. If there are $N$ number of classes, the final layer should output $N$ numbers corresponding to each class and the data is classified to the class with the highest corresponding output value.\n",
    "\n",
    "* For each class, the network is able to output probability based on **softmax**. The softmax function is given by:\n",
    "  \n",
    "$$\n",
    "p(y_i) = \\frac{e^{y_i}}{\\sum_{j=1}^N{e^{y_j}}}\n",
    "$$\n",
    "\n",
    "* The network supports mini-batch training using gradient descent approach.\n",
    "\n",
    "* The network uses cross-entropy (based on the softmax-output) as error. The cross entropy error and it's gradient with respect to a final layer's output ($y_i$) are given respectively by:\n",
    "\n",
    "$$\n",
    "Error(x) = \\sum_i{-t_i log(p_i)} \\\\\n",
    "$$\n",
    "\n",
    "$$\n",
    "\\frac{\\partial Error(x)}{\\partial y_i} = p_i - t_i\n",
    "$$\n"
   ]
  },
  {
   "cell_type": "code",
   "execution_count": 11,
   "metadata": {},
   "outputs": [],
   "source": [
    "import copy\n",
    "\n",
    "\n",
    "class MultiClassNetwork(Layer):\n",
    "    \"\"\"\n",
    "    A simple feed-forward multi-class neural network.\n",
    "    \n",
    "    This network is capable of calculating the probability of an input data to be in one of several classes.\n",
    "    \"\"\"\n",
    "\n",
    "    def __init__(self, layers, num_classes, learning_rate):\n",
    "        \"\"\"\n",
    "        layers: List of layers in sequence.\n",
    "        num_classes: Number of output classes.\n",
    "        learning_rate: Learning rate to use with the gradient descent during training of the network parameters.\n",
    "        \"\"\"\n",
    "        self.layers = layers\n",
    "        self.num_classes = num_classes\n",
    "        self.learning_rate = learning_rate\n",
    "        \n",
    "    def forward(self, input_data):\n",
    "        \"\"\"\n",
    "        Forward pass an input data through each layer in the network and return the output.\n",
    "        \"\"\"\n",
    "        next_data = input_data\n",
    "        for layer in self.layers:\n",
    "            next_data = layer.forward(next_data)\n",
    "        return next_data\n",
    "    \n",
    "    def backward(self, last_gradient):\n",
    "        \"\"\"\n",
    "        Backpropagate the error gradient with respect to the network output through each layer in reverse order.\n",
    "        \"\"\"\n",
    "        for layer in reversed(self.layers):\n",
    "            last_gradient = layer.backward(last_gradient)\n",
    "        return last_gradient\n",
    "        \n",
    "    def init_params(self):\n",
    "        \"\"\"\n",
    "        Initialize each layer's parameters.\n",
    "        \"\"\"\n",
    "        for layer in self.layers:\n",
    "            layer.init_params()\n",
    "\n",
    "    def update_params(self, alpha):\n",
    "        \"\"\"\n",
    "        Update each layer's parameters based on calculated error gradients.\n",
    "        \"\"\"\n",
    "        for layer in self.layers:\n",
    "            layer.update_params(alpha)\n",
    "            \n",
    "    def train(self, input_data, target_data, num_epochs, batch_size, test_set=None):\n",
    "        \"\"\"\n",
    "        Train over the given input and target matrices, taking mini-batches of given size and for given\n",
    "        number of epochs.\n",
    "        \n",
    "        Optionally, also take test set (where test_set = [test_input, test_target]) to calculate test errors\n",
    "        for each epoch as we train the network.\n",
    "        \"\"\"\n",
    "        \n",
    "        # First transform the input and output matrices to the format acceptable to our network.\n",
    "        # This means, transposing the input document matrix to get X\n",
    "        # and using one-hot encoding for the output matrix to get Y.\n",
    "        X, T = self.preprocess(input_data, target_data)\n",
    "        \n",
    "        # At this point, each column of X and T represent one pair of input-output data and the whole matrices\n",
    "        # represent the complete batch.\n",
    "        \n",
    "        num_items = len(input_data)\n",
    "        \n",
    "        # We will collect the errors over each epoch, which is useful for plotting later.\n",
    "        errors = []\n",
    "        \n",
    "        if test_set is not None:\n",
    "            # If we are using test set, record the test errors for plotting.\n",
    "            test_errors = []\n",
    "            # And, also keep backup of each layers (and their parameters) for each training epoch\n",
    "            # so that we can later choose the best set of parameters based on the test error.\n",
    "            self.backup_layers = []\n",
    "        \n",
    "        for epoch in range(num_epochs):\n",
    "            # For each epoch, shuffle the training data.\n",
    "            \n",
    "            # Create a shuffled indices array.\n",
    "            indices = np.arange(num_items)\n",
    "            np.random.shuffle(indices)\n",
    "            \n",
    "            # Shuffle the data around. Note that we need to shuffle the columns.\n",
    "            # Also, we must shuffle the X and T both the same way so the corresponding pairs are always together.\n",
    "            X = X[:, indices]\n",
    "            T = T[:, indices]\n",
    "            \n",
    "            # Error for this epoch.\n",
    "            epoch_error = 0\n",
    "            \n",
    "            # Take each mini-batch.\n",
    "            for i in range(0, num_items, batch_size):\n",
    "\n",
    "                # Feed the mini-batch forward.\n",
    "                y = self.forward(X[:, i:i + batch_size])\n",
    "                # Use softmax to calculate the probabilities of being in different classes.\n",
    "                p = self.softmax(y)\n",
    "                \n",
    "                # The corresponding one-hot encoded target vectors.\n",
    "                t = T[:, i:i + batch_size]\n",
    "    \n",
    "                # Calculate the error between the output and the target for this mini-batch.\n",
    "                error = self.calc_error(p, t)\n",
    "                epoch_error += error\n",
    "                \n",
    "                # For cross-entropy error using soft-max, the gradient is given by:\n",
    "                # Grad(Error, Output) = p - t\n",
    "                grad_error = (p - t)\n",
    "                \n",
    "                # Back-propagate this gradient to each layer from the last.\n",
    "                self.backward(grad_error)\n",
    "                \n",
    "                # Update the parameters of each layer using gradient descent.\n",
    "                self.update_params(self.learning_rate)\n",
    "                \n",
    "            # Calculate mean error for this epoch.\n",
    "            errors.append(epoch_error / i)\n",
    "            \n",
    "            # If we have the test set, record the test error and backup the layer parameters for this epoch.\n",
    "            if test_set is not None:\n",
    "                test_errors.append(self.test(test_set[0], test_set[1]))\n",
    "                self.backup_layers.append([\n",
    "                    copy.deepcopy(layer) for layer in self.layers\n",
    "                ])\n",
    "                \n",
    "        # Return the errors.\n",
    "        if test_set is not None:\n",
    "            return errors, test_errors\n",
    "        return errors\n",
    "    \n",
    "    def reset_layers(self, epoch_number):\n",
    "        \"\"\"\n",
    "        We have backed up the layers (and their parameters) for each epoch in the training phase.\n",
    "        Based on the test data, the user can choose to reset the parameters to any given epoch number.\n",
    "        \"\"\"\n",
    "        self.layers = self.backup_layers[epoch_number]\n",
    "                \n",
    "    def test(self, input_data, target_data):\n",
    "        \"\"\"\n",
    "        Test the network using the pair of input and target matrices and calculate the errors.\n",
    "        Can be used for validation and error reporting.\n",
    "        \"\"\"\n",
    "        \n",
    "        # Transform the input and target matrices just like we do in training.\n",
    "        X, T = self.preprocess(input_data, target_data)\n",
    "        \n",
    "        # Forward pass the input through the network layers.\n",
    "        y = self.forward(X)\n",
    "        \n",
    "        # Calculate the probability of the data to be in the different classes using softmax.\n",
    "        p = self.softmax(y)\n",
    "        \n",
    "        # Calculate the error between the computed probabilites and the target vectors.\n",
    "        return self.calc_error(p, T)\n",
    "    \n",
    "    def predict(self, input_data):\n",
    "        \"\"\"\n",
    "        Infer the class for given input data.\n",
    "        \"\"\"\n",
    "        # Simply use the network as we do for training/testing to get probability for being in each class.\n",
    "        X = np.matrix(input_data).T\n",
    "        \n",
    "        p = self.softmax(self.forward(X))\n",
    "        # Return the probability for each class, as well as the class with the highest probability.\n",
    "        return p, np.array(p.argmax(axis=0)).flatten()\n",
    "        \n",
    "            \n",
    "    def preprocess(self, input_data, target_data):\n",
    "        \"\"\"\n",
    "        Given an input document matrix and their classes, create X and T matrices respectively in the format\n",
    "        that can be used with this neural network.\n",
    "        \n",
    "        input_data: A matrix of input data where each row is a input vector.\n",
    "        target_data: A list/array of numbers representing the class index of the corresponding input vector.\n",
    "        \"\"\"\n",
    "    \n",
    "        num_items = len(input_data)\n",
    "        \n",
    "        # Transpose the input_data to create X matrix.\n",
    "        X = np.matrix(input_data).T\n",
    "        \n",
    "        # Use one-hot encoding to transform the target_data vector into Y matrix.\n",
    "        T = np.zeros((self.num_classes, num_items))\n",
    "        T[target_data, np.arange(num_items)] = 1\n",
    "        T = np.matrix(T)\n",
    "        \n",
    "        # Return X and T.\n",
    "        return X, T\n",
    "    \n",
    "    def softmax(self, y):\n",
    "        \"\"\"\n",
    "        Use softmax function on the given matrix, over each column, to convert the values into probabilities.\n",
    "        \"\"\"\n",
    "        # The real softmax function is:\n",
    "        # exps = np.exp(y)\n",
    "        # p = exps / Sum(exps)\n",
    "        \n",
    "        # However, sometimes the values of y can be very large and applying the exponential function\n",
    "        # can result in overflow errors.\n",
    "        \n",
    "        # So, we can use a trick to get the same result, by subtracting a large value from each value in y.\n",
    "        # For our purpose, we can subtract the maximum value of y from each element of y, take the exp and\n",
    "        # get the same result without overflowing.\n",
    "\n",
    "        exps = np.exp(y - y.max(axis=0))  # Originally: exps = np.exp(y)\n",
    "        return exps / exps.sum(axis=0)\n",
    "    \n",
    "    def calc_error(self, y, t):\n",
    "        \"\"\"\n",
    "        Given an output probability matrix y and corresponding target class matrix (one-hot encoded) t,\n",
    "        calculate the error.\n",
    "        \"\"\"\n",
    "        \n",
    "        # Cross Entropy Error given by:\n",
    "        # Error = 1 / M * Sum(-t log(y))\n",
    "        j = np.sum(-np.multiply(t, np.log(y)))\n",
    "        return float(j) / t.size\n",
    "            "
   ]
  },
  {
   "cell_type": "markdown",
   "metadata": {},
   "source": [
    "### Two Layer Neural Network\n",
    "\n",
    "Since the goal of this assignment is to create a 2-layer neural network, we will create a simple API for doing so."
   ]
  },
  {
   "cell_type": "code",
   "execution_count": 12,
   "metadata": {},
   "outputs": [],
   "source": [
    "class TwoLayerNeuralNetwork(MultiClassNetwork):\n",
    "    def __init__(self,\n",
    "                 num_inputs, num_hidden, num_output, learning_rate, hidden_activation=Sigmoid):\n",
    "        super().__init__([\n",
    "            Linear(num_inputs, num_hidden),\n",
    "            hidden_activation(),\n",
    "            Linear(num_hidden, num_output)\n",
    "        ], num_output, learning_rate)"
   ]
  },
  {
   "cell_type": "markdown",
   "metadata": {},
   "source": [
    "## Testing with MNIST dataset\n",
    "\n",
    "Let's test the network using the MNIST dataset. First create a two layer neural network using 100 neurons in the hidden layer. The input size and output size for the MNIST dataset are 784 and 10 respectively.\n",
    "\n",
    "Here, we have chosen to use **Sigmoid** as the activation function in the hidden layer."
   ]
  },
  {
   "cell_type": "code",
   "execution_count": 41,
   "metadata": {},
   "outputs": [],
   "source": [
    "network = TwoLayerNeuralNetwork(\n",
    "    num_inputs=784,\n",
    "    num_hidden=100,\n",
    "    num_output=10,\n",
    "    learning_rate=0.1,\n",
    "    hidden_activation=Sigmoid,\n",
    ")"
   ]
  },
  {
   "cell_type": "markdown",
   "metadata": {},
   "source": [
    "Import the mnist dataset and train over them. Note that normalizing the inputs to $[0, 1]$ range will help smooth out the training process because we don't want large values for sigmoid activations.\n",
    "\n",
    "Also note that we need to divide the dataset into *training* and *test* samples, where the *test samples* will be used for validation after training each iteration."
   ]
  },
  {
   "cell_type": "code",
   "execution_count": 42,
   "metadata": {},
   "outputs": [],
   "source": [
    "import mnist\n",
    "\n",
    "x_train, t_train, x_test, t_test = mnist.load()\n",
    "x_train, x_test = x_train / 255.0, x_test / 255.0\n",
    "\n",
    "network.init_params()\n",
    "errors, test_errors = network.train(x_train, t_train, 32, 64, [x_test, t_test])"
   ]
  },
  {
   "cell_type": "markdown",
   "metadata": {},
   "source": [
    "Let's plot the training errors. We can see how the network is converging towards small training error."
   ]
  },
  {
   "cell_type": "code",
   "execution_count": 43,
   "metadata": {},
   "outputs": [
    {
     "data": {
      "text/plain": [
       "[<matplotlib.lines.Line2D at 0x7fd0bdefc340>]"
      ]
     },
     "execution_count": 43,
     "metadata": {},
     "output_type": "execute_result"
    },
    {
     "data": {
      "image/png": "[encoded data removed]",
      "text/plain": [
       "<Figure size 432x288 with 1 Axes>"
      ]
     },
     "metadata": {
      "needs_background": "light"
     },
     "output_type": "display_data"
    }
   ],
   "source": [
    "plt.xlabel('Training Epoch')\n",
    "plt.ylabel('Training Error')\n",
    "plt.plot(errors)"
   ]
  },
  {
   "cell_type": "markdown",
   "metadata": {},
   "source": [
    "Of course, the training error do not give us the full picture as the network can overfit the training data. So, we need to use a separate dataset (test set) to calculate test error for validation.\n",
    "\n",
    "As shown below, the test error is also converging as the training progresses, indicating that the network is generalizing well. However, as we can see, the network is overfitting the training data towards the end of the training. This is indicated by increasing test error but decreasing training error."
   ]
  },
  {
   "cell_type": "code",
   "execution_count": 48,
   "metadata": {},
   "outputs": [
    {
     "data": {
      "text/plain": [
       "[<matplotlib.lines.Line2D at 0x7fd0be0ea7f0>]"
      ]
     },
     "execution_count": 48,
     "metadata": {},
     "output_type": "execute_result"
    },
    {
     "data": {
      "image/png": "[encoded data removed]",
      "text/plain": [
       "<Figure size 432x288 with 1 Axes>"
      ]
     },
     "metadata": {
      "needs_background": "light"
     },
     "output_type": "display_data"
    }
   ],
   "source": [
    "plt.xlabel('Training Epoch')\n",
    "plt.ylabel('Test Error')\n",
    "plt.plot(test_errors)"
   ]
  },
  {
   "cell_type": "markdown",
   "metadata": {},
   "source": [
    "Instead of keeping the final network parameters, we actually want the network parameters that gave the minimum test error. This could happen in any training epoch, which we can find as follows:"
   ]
  },
  {
   "cell_type": "code",
   "execution_count": 49,
   "metadata": {},
   "outputs": [
    {
     "name": "stdout",
     "output_type": "stream",
     "text": [
      "Network Accuracy: 98.64912021810152%\n"
     ]
    }
   ],
   "source": [
    "epoch_desired = np.argmin(test_errors)\n",
    "network.reset_layers(epoch_desired)\n",
    "\n",
    "test_error = network.test(x_test, t_test)\n",
    "\n",
    "accuracy = 100 - test_error * 100\n",
    "print(f'Network Accuracy: {accuracy}%')"
   ]
  },
  {
   "cell_type": "markdown",
   "metadata": {},
   "source": [
    "Not bad for simple feed forward networ. Since the inputs are images, we can probably do better with a convolutional neural network."
   ]
  },
  {
   "cell_type": "markdown",
   "metadata": {},
   "source": [
    "To see this in action, let's view the first 16 test images and see how well our network classified them."
   ]
  },
  {
   "cell_type": "code",
   "execution_count": 50,
   "metadata": {},
   "outputs": [
    {
     "data": {
      "image/png": "[encoded data removed]",
      "text/plain": [
       "<Figure size 360x360 with 16 Axes>"
      ]
     },
     "metadata": {
      "needs_background": "light"
     },
     "output_type": "display_data"
    }
   ],
   "source": [
    "fig = plt.figure(figsize=(5, 5))\n",
    "for i in range(16):\n",
    "    sub = fig.add_subplot(4, 4, i + 1)\n",
    "    sub.axis('off')\n",
    "    sub.imshow(np.reshape(x_test[i], (28, 28)), cmap='gray')"
   ]
  },
  {
   "cell_type": "code",
   "execution_count": 51,
   "metadata": {},
   "outputs": [
    {
     "data": {
      "text/plain": [
       "array([[7, 2, 1, 0],\n",
       "       [4, 1, 4, 9],\n",
       "       [6, 9, 0, 6],\n",
       "       [9, 0, 1, 5]])"
      ]
     },
     "execution_count": 51,
     "metadata": {},
     "output_type": "execute_result"
    }
   ],
   "source": [
    "np.reshape(network.predict(x_test[:16])[1:], (4, 4))"
   ]
  },
  {
   "cell_type": "markdown",
   "metadata": {},
   "source": [
    "I believe the network did a pretty good job."
   ]
  },
  {
   "cell_type": "markdown",
   "metadata": {},
   "source": [
    "## Testing with Madison dataset"
   ]
  },
  {
   "cell_type": "markdown",
   "metadata": {},
   "source": [
    "Let's test our network with a separate dataset. This dataset contains two classes *Rainfed* and *Irrigated*, which we will classify as *0* and *1* respectively.\n",
    "\n",
    "Start by importing the datasets and preprocessing them. Note that, we are normalizing the numeric values in the datasets using mean and standard deviation.\n",
    "\n",
    "We are also shuffling the whole data."
   ]
  },
  {
   "cell_type": "code",
   "execution_count": 35,
   "metadata": {},
   "outputs": [],
   "source": [
    "rainfed = pd.read_csv('Madison_Rainfed.csv').dropna()\n",
    "irrigated = pd.read_csv('Madison_Irrigated.csv').dropna()\n",
    "\n",
    "targets = np.array([*([0] * len(rainfed)), *([1] * len(irrigated))])\n",
    "madison = pd.concat([rainfed, irrigated])\n",
    "\n",
    "madison = (madison - madison.mean()) / madison.std()\n",
    "madison = madison.values\n",
    "\n",
    "indices = np.arange(len(madison))\n",
    "np.random.shuffle(indices)\n",
    "madison = madison[indices]\n",
    "targets = targets[indices]"
   ]
  },
  {
   "cell_type": "markdown",
   "metadata": {},
   "source": [
    "We again need to divide the dataset into training and test sets for training and validation respectively. Use 75% of dataset as training data and remaining 25% as test dataset."
   ]
  },
  {
   "cell_type": "code",
   "execution_count": 36,
   "metadata": {},
   "outputs": [],
   "source": [
    "num_data = len(madison)\n",
    "train_size = int(0.75 * num_data)\n",
    "train_x, test_x = madison[:train_size], madison[train_size:]\n",
    "train_y, test_y = targets[:train_size], targets[train_size:]"
   ]
  },
  {
   "cell_type": "markdown",
   "metadata": {},
   "source": [
    "Now, create similar neural network as with MNIST, but this time use **ReLu** as the activation function. Then, train it with out dataset."
   ]
  },
  {
   "cell_type": "code",
   "execution_count": 37,
   "metadata": {},
   "outputs": [],
   "source": [
    "network = TwoLayerNeuralNetwork(\n",
    "    num_inputs=24,\n",
    "    num_hidden=16,\n",
    "    num_output=2,\n",
    "    learning_rate=0.001,\n",
    "    hidden_activation=ReLu\n",
    ")\n",
    "\n",
    "network.init_params()\n",
    "\n",
    "errors, test_errors = network.train(train_x, train_y, 256, 64, [test_x, test_y])"
   ]
  },
  {
   "cell_type": "markdown",
   "metadata": {},
   "source": [
    "Let's plot the training error, which converges to near zero value quite easily."
   ]
  },
  {
   "cell_type": "code",
   "execution_count": 38,
   "metadata": {},
   "outputs": [
    {
     "data": {
      "text/plain": [
       "[<matplotlib.lines.Line2D at 0x7fd0d84cb580>]"
      ]
     },
     "execution_count": 38,
     "metadata": {},
     "output_type": "execute_result"
    },
    {
     "data": {
      "image/png": "[encoded data removed]",
      "text/plain": [
       "<Figure size 432x288 with 1 Axes>"
      ]
     },
     "metadata": {
      "needs_background": "light"
     },
     "output_type": "display_data"
    }
   ],
   "source": [
    "plt.xlabel('Training Epoch')\n",
    "plt.ylabel('Training Error')\n",
    "plt.plot(errors)"
   ]
  },
  {
   "cell_type": "markdown",
   "metadata": {},
   "source": [
    "Let's also plot the test error. Interestingly, not only the error remains above 15% (which is quite high), the test error starts to increase after about 55 epochs. This indicates that the network is overfitting the training error after this point, which is not what we want."
   ]
  },
  {
   "cell_type": "code",
   "execution_count": 39,
   "metadata": {},
   "outputs": [
    {
     "data": {
      "text/plain": [
       "[<matplotlib.lines.Line2D at 0x7fd0d8495940>]"
      ]
     },
     "execution_count": 39,
     "metadata": {},
     "output_type": "execute_result"
    },
    {
     "data": {
      "image/png": "[encoded data removed]",
      "text/plain": [
       "<Figure size 432x288 with 1 Axes>"
      ]
     },
     "metadata": {
      "needs_background": "light"
     },
     "output_type": "display_data"
    }
   ],
   "source": [
    "plt.xlabel('Training Epoch')\n",
    "plt.ylabel('Test Error')\n",
    "plt.plot(test_errors)"
   ]
  },
  {
   "cell_type": "markdown",
   "metadata": {},
   "source": [
    "So, let's reset the network to the point where the layer had minimum test error and use that error for calculating our accuracy."
   ]
  },
  {
   "cell_type": "code",
   "execution_count": 40,
   "metadata": {},
   "outputs": [
    {
     "name": "stdout",
     "output_type": "stream",
     "text": [
      "Accuracy: 85.81907444682811%\n"
     ]
    }
   ],
   "source": [
    "epoch_desired = np.argmin(test_errors)\n",
    "network.reset_layers(epoch_desired)\n",
    "\n",
    "test_error = network.test(test_x, test_y)\n",
    "\n",
    "accuracy = 100 - test_error * 100\n",
    "print(f'Accuracy: {accuracy}%')\n"
   ]
  },
  {
   "cell_type": "code",
   "execution_count": null,
   "metadata": {},
   "outputs": [],
   "source": []
  }
 ],
 "metadata": {
  "kernelspec": {
   "display_name": "Python 3",
   "language": "python",
   "name": "python3"
  },
  "language_info": {
   "codemirror_mode": {
    "name": "ipython",
    "version": 3
   },
   "file_extension": ".py",
   "mimetype": "text/x-python",
   "name": "python",
   "nbconvert_exporter": "python",
   "pygments_lexer": "ipython3",
   "version": "3.7.6"
  }
 },
 "nbformat": 4,
 "nbformat_minor": 4
}
